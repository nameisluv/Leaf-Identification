{
 "cells": [
  {
   "cell_type": "code",
   "execution_count": 3,
   "metadata": {},
   "outputs": [],
   "source": [
    "import numpy as np\n",
    "import tensorflow as tf\n",
    "import matplotlib.pyplot as plt\n",
    "import os\n",
    "import cv2\n",
    "from tensorflow.keras.preprocessing.image import ImageDataGenerator\n",
    "from tensorflow.keras.models import Sequential\n",
    "from tensorflow.keras.layers import Dense, Dropout, Activation, Flatten\n",
    "from tensorflow.keras.layers import Conv2D, MaxPooling2D, AveragePooling2D\n",
    "from tensorflow.keras.callbacks import TensorBoard\n",
    "from tqdm import tqdm\n",
    "import pickle\n",
    "import time "
   ]
  },
  {
   "cell_type": "code",
   "execution_count": 17,
   "metadata": {},
   "outputs": [
    {
     "name": "stderr",
     "output_type": "stream",
     "text": [
      "100%|██████████| 75/75 [00:00<00:00, 126.80it/s]\n",
      "100%|██████████| 75/75 [00:02<00:00, 32.08it/s]\n",
      "100%|██████████| 75/75 [00:01<00:00, 74.18it/s]\n",
      "100%|██████████| 75/75 [00:01<00:00, 55.18it/s]\n",
      "100%|██████████| 75/75 [00:01<00:00, 62.19it/s]\n",
      "100%|██████████| 75/75 [00:01<00:00, 53.85it/s]\n",
      "100%|██████████| 75/75 [00:01<00:00, 69.08it/s]\n",
      "100%|██████████| 75/75 [00:03<00:00, 24.52it/s]\n",
      "100%|██████████| 75/75 [00:02<00:00, 34.02it/s]\n",
      "100%|██████████| 75/75 [00:01<00:00, 51.36it/s]\n",
      "100%|██████████| 75/75 [00:01<00:00, 61.83it/s]\n",
      "100%|██████████| 75/75 [00:01<00:00, 40.36it/s]\n",
      "100%|██████████| 75/75 [00:01<00:00, 70.98it/s]\n",
      "100%|██████████| 75/75 [00:01<00:00, 49.90it/s]\n",
      "100%|██████████| 75/75 [00:01<00:00, 41.25it/s]"
     ]
    },
    {
     "name": "stdout",
     "output_type": "stream",
     "text": [
      "1125\n"
     ]
    },
    {
     "name": "stderr",
     "output_type": "stream",
     "text": [
      "\n"
     ]
    }
   ],
   "source": [
    "training_data =[]\n",
    "src_path=\"C:/Users/luv05/projects/Plant-Leaf-Recognition-main/data\"\n",
    "subclass=os.listdir(src_path)\n",
    "def create_training_data():\n",
    "    for sclass in subclass:\n",
    "        path=os.path.join(src_path,sclass)\n",
    "        class_num=subclass.index(sclass)\n",
    "        for img in tqdm(os.listdir(path)):\n",
    "            img_array=cv2.imread(os.path.join(path,img),cv2.IMREAD_GRAYSCALE)\n",
    "            new_array=cv2.resize(img_array, (224,224))\n",
    "            training_data.append([new_array,class_num])\n",
    "            \n",
    "create_training_data()\n",
    "print(len(training_data))"
   ]
  },
  {
   "cell_type": "code",
   "execution_count": 18,
   "metadata": {
    "scrolled": true
   },
   "outputs": [
    {
     "name": "stdout",
     "output_type": "stream",
     "text": [
      "[[[246]\n",
      "  [247]\n",
      "  [244]\n",
      "  ...\n",
      "  [242]\n",
      "  [243]\n",
      "  [241]]\n",
      "\n",
      " [[247]\n",
      "  [246]\n",
      "  [246]\n",
      "  ...\n",
      "  [243]\n",
      "  [242]\n",
      "  [242]]\n",
      "\n",
      " [[246]\n",
      "  [245]\n",
      "  [245]\n",
      "  ...\n",
      "  [242]\n",
      "  [238]\n",
      "  [242]]\n",
      "\n",
      " ...\n",
      "\n",
      " [[252]\n",
      "  [253]\n",
      "  [252]\n",
      "  ...\n",
      "  [247]\n",
      "  [247]\n",
      "  [247]]\n",
      "\n",
      " [[252]\n",
      "  [253]\n",
      "  [252]\n",
      "  ...\n",
      "  [247]\n",
      "  [249]\n",
      "  [247]]\n",
      "\n",
      " [[252]\n",
      "  [253]\n",
      "  [252]\n",
      "  ...\n",
      "  [248]\n",
      "  [248]\n",
      "  [246]]]\n"
     ]
    }
   ],
   "source": [
    "X=[]\n",
    "y=[]\n",
    "\n",
    "for features,label in training_data:\n",
    "    X.append(features)\n",
    "    y.append(label)\n",
    "\n",
    "X=np.array(X).reshape(-1,224,224,1)\n",
    "print(X[0])"
   ]
  },
  {
   "cell_type": "code",
   "execution_count": 21,
   "metadata": {},
   "outputs": [],
   "source": [
    "# Preprocessing data and pickling them for future use \n",
    "# Commented out so that preprocessing doesnt repeat on testing of various models \n",
    "\n",
    "import pickle \n",
    "pickle_out = open(\"X_Augumented_Grayscale\",\"wb\")\n",
    "pickle.dump(X, pickle_out)\n",
    "pickle_out.close()\n",
    "\n",
    "pickle_out = open(\"y_Augumented_Grayscale\",\"wb\")\n",
    "pickle.dump(y, pickle_out)\n",
    "pickle_out.close()"
   ]
  },
  {
   "cell_type": "code",
   "execution_count": 22,
   "metadata": {},
   "outputs": [
    {
     "name": "stdout",
     "output_type": "stream",
     "text": [
      "Epoch 1/10\n",
      "900/900 [==============================] - 94s 104ms/step - loss: 2.2522 - accuracy: 0.2911 - val_loss: 10.4827 - val_accuracy: 0.0000e+00\n",
      "Epoch 2/10\n",
      "900/900 [==============================] - 78s 86ms/step - loss: 0.7187 - accuracy: 0.7833 - val_loss: 26.7579 - val_accuracy: 0.0000e+00\n",
      "Epoch 3/10\n",
      "900/900 [==============================] - 78s 87ms/step - loss: 0.1835 - accuracy: 0.9489 - val_loss: 27.1087 - val_accuracy: 0.0000e+00\n",
      "Epoch 4/10\n",
      "900/900 [==============================] - 78s 87ms/step - loss: 0.0711 - accuracy: 0.9856 - val_loss: 26.9363 - val_accuracy: 0.0000e+00\n",
      "Epoch 5/10\n",
      "900/900 [==============================] - 78s 86ms/step - loss: 0.0039 - accuracy: 1.0000 - val_loss: 47.7557 - val_accuracy: 0.0000e+00\n",
      "Epoch 6/10\n",
      "900/900 [==============================] - 78s 86ms/step - loss: 0.0014 - accuracy: 1.0000 - val_loss: 58.8022 - val_accuracy: 0.0000e+00\n",
      "Epoch 7/10\n",
      "900/900 [==============================] - 77s 86ms/step - loss: 0.0093 - accuracy: 0.9967 - val_loss: 58.3851 - val_accuracy: 0.0000e+00\n",
      "Epoch 8/10\n",
      "900/900 [==============================] - 78s 87ms/step - loss: 2.0335e-04 - accuracy: 1.0000 - val_loss: 60.2033 - val_accuracy: 0.0000e+00\n",
      "Epoch 9/10\n",
      "900/900 [==============================] - 76s 84ms/step - loss: 8.9140e-05 - accuracy: 1.0000 - val_loss: 64.8600 - val_accuracy: 0.0000e+00\n",
      "Epoch 10/10\n",
      "900/900 [==============================] - 77s 86ms/step - loss: 5.2898e-05 - accuracy: 1.0000 - val_loss: 65.6169 - val_accuracy: 0.0000e+00\n"
     ]
    },
    {
     "data": {
      "text/plain": [
       "<keras.callbacks.History at 0x25780023da0>"
      ]
     },
     "execution_count": 22,
     "metadata": {},
     "output_type": "execute_result"
    }
   ],
   "source": [
    "# Model 1\n",
    "pickle_in = open(\"X_Augumented_Grayscale\",\"rb\")\n",
    "X = pickle.load(pickle_in)\n",
    "\n",
    "pickle_in = open(\"y_Augumented_Grayscale\",\"rb\")\n",
    "y = pickle.load(pickle_in)\n",
    "\n",
    "X = X/255.0\n",
    "model = Sequential()\n",
    "\n",
    "model.add(Conv2D(100, (3, 3), input_shape=X.shape[1:]))\n",
    "model.add(Activation('relu'))\n",
    "model.add(MaxPooling2D(pool_size=(2, 2)))\n",
    "\n",
    "model.add(Conv2D(100, (3, 3)))\n",
    "model.add(Activation('relu'))\n",
    "model.add(MaxPooling2D(pool_size=(2, 2)))\n",
    "\n",
    "model.add(Flatten())\n",
    "\n",
    "model.add(Dense(15))\n",
    "model.add(Activation('softmax'))\n",
    "\n",
    "tensorboard = TensorBoard(log_dir=\"logs\\\\{}\".format(\"Basic_CNN_2_Augumented\"))\n",
    "X=np.array(X)\n",
    "y=np.array(y)\n",
    "model.compile(loss='sparse_categorical_crossentropy',\n",
    "              optimizer='adam',\n",
    "              metrics=['accuracy'])\n",
    "model.fit(X, y, epochs=10,batch_size=1,validation_split=0.2,callbacks=[tensorboard])"
   ]
  },
  {
   "cell_type": "code",
   "execution_count": 23,
   "metadata": {},
   "outputs": [
    {
     "name": "stdout",
     "output_type": "stream",
     "text": [
      "Epoch 1/10\n",
      "900/900 [==============================] - 12s 13ms/step - loss: 1.9553 - accuracy: 0.3167 - val_loss: 16.0237 - val_accuracy: 0.0000e+00\n",
      "Epoch 2/10\n",
      "900/900 [==============================] - 12s 13ms/step - loss: 0.6935 - accuracy: 0.7378 - val_loss: 17.2281 - val_accuracy: 0.0000e+00\n",
      "Epoch 3/10\n",
      "900/900 [==============================] - 12s 13ms/step - loss: 0.4361 - accuracy: 0.8344 - val_loss: 20.4750 - val_accuracy: 0.0000e+00\n",
      "Epoch 4/10\n",
      "900/900 [==============================] - 12s 13ms/step - loss: 0.3207 - accuracy: 0.8867 - val_loss: 18.8500 - val_accuracy: 0.0000e+00\n",
      "Epoch 5/10\n",
      "900/900 [==============================] - 12s 13ms/step - loss: 0.3217 - accuracy: 0.8811 - val_loss: 15.8321 - val_accuracy: 0.0000e+00\n",
      "Epoch 6/10\n",
      "900/900 [==============================] - 12s 13ms/step - loss: 0.1795 - accuracy: 0.9322 - val_loss: 21.2895 - val_accuracy: 0.0000e+00\n",
      "Epoch 7/10\n",
      "900/900 [==============================] - 12s 13ms/step - loss: 0.1802 - accuracy: 0.9389 - val_loss: 15.7160 - val_accuracy: 0.0000e+00\n",
      "Epoch 8/10\n",
      "900/900 [==============================] - 12s 14ms/step - loss: 0.1523 - accuracy: 0.9400 - val_loss: 22.8460 - val_accuracy: 0.0000e+00\n",
      "Epoch 9/10\n",
      "900/900 [==============================] - 12s 14ms/step - loss: 0.1608 - accuracy: 0.9356 - val_loss: 21.0530 - val_accuracy: 0.0000e+00\n",
      "Epoch 10/10\n",
      "900/900 [==============================] - 12s 14ms/step - loss: 0.1133 - accuracy: 0.9622 - val_loss: 24.9055 - val_accuracy: 0.0000e+00\n"
     ]
    }
   ],
   "source": [
    "#Model 2\n",
    "pickle_in = open(\"X_Augumented_Grayscale\",\"rb\")\n",
    "X = pickle.load(pickle_in)\n",
    "\n",
    "pickle_in = open(\"y_Augumented_Grayscale\",\"rb\")\n",
    "y = pickle.load(pickle_in)\n",
    "\n",
    "X = X/255.0\n",
    "NAME=\"Model_2\"\n",
    "\n",
    "model=Sequential()\n",
    "\n",
    "model.add(Conv2D(100,(5,5),padding=\"same\",strides=(2,2),activation=\"relu\", input_shape=X.shape[1:]))\n",
    "model.add(MaxPooling2D(pool_size=(5,5),strides=(5,5)))\n",
    "model.add(Dropout(0.2))\n",
    "model.add(Conv2D(250,(5,5),padding=\"same\",strides=(2,2),activation=\"relu\"))\n",
    "model.add(MaxPooling2D(pool_size=(5,5),strides=(2,2)))\n",
    "model.add(Dropout(0.5))\n",
    "model.add(Flatten())\n",
    "model.add(Dense(15))\n",
    "model.add(Activation('softmax'))\n",
    "\n",
    "tensorboard= TensorBoard(log_dir=\"logs\\\\{}\".format(NAME))\n",
    "X=np.array(X)\n",
    "y=np.array(y)\n",
    "model.compile(loss='sparse_categorical_crossentropy',\n",
    "             optimizer='adam',\n",
    "             metrics=['accuracy'])\n",
    "\n",
    "history = model.fit(X,y,epochs=10,batch_size=1,validation_split=0.2,callbacks=[tensorboard])\n"
   ]
  },
  {
   "cell_type": "code",
   "execution_count": 24,
   "metadata": {},
   "outputs": [
    {
     "data": {
      "text/plain": [
       "<matplotlib.legend.Legend at 0x257945b8278>"
      ]
     },
     "execution_count": 24,
     "metadata": {},
     "output_type": "execute_result"
    },
    {
     "data": {
      "image/png": "[encoded data removed]",
      "text/plain": [
       "<Figure size 432x288 with 1 Axes>"
      ]
     },
     "metadata": {
      "needs_background": "light"
     },
     "output_type": "display_data"
    }
   ],
   "source": [
    "#Plot Model Loss\n",
    "plt.subplot(211)\n",
    "plt.title('Model Loss')\n",
    "plt.plot(history.history['loss'], color='blue', label='train')\n",
    "plt.plot(history.history['val_loss'], color='green', label='test')\n",
    "plt.ylabel('Loss')\n",
    "plt.xlabel('Epochs')\n",
    "plt.legend(['Training','Validation'],loc='upper right')\n"
   ]
  },
  {
   "cell_type": "code",
   "execution_count": 25,
   "metadata": {},
   "outputs": [
    {
     "data": {
      "text/plain": [
       "<matplotlib.legend.Legend at 0x257951b54a8>"
      ]
     },
     "execution_count": 25,
     "metadata": {},
     "output_type": "execute_result"
    },
    {
     "data": {
      "image/png": "[encoded data removed]",
      "text/plain": [
       "<Figure size 432x288 with 1 Axes>"
      ]
     },
     "metadata": {
      "needs_background": "light"
     },
     "output_type": "display_data"
    }
   ],
   "source": [
    "# Plot Accuracy\n",
    "plt.subplot(211)\n",
    "plt.title('Model Accuracy')\n",
    "plt.plot(history.history['accuracy'], color='blue', label='train')\n",
    "plt.plot(history.history['val_accuracy'], color='green', label='test')\n",
    "plt.ylabel('Accuracy')\n",
    "plt.xlabel('Epochs')\n",
    "plt.legend(['Training','Validation'],loc='lower right')"
   ]
  },
  {
   "cell_type": "code",
   "execution_count": 26,
   "metadata": {},
   "outputs": [
    {
     "name": "stdout",
     "output_type": "stream",
     "text": [
      "INFO:tensorflow:Assets written to: CNN-model\\assets\n"
     ]
    }
   ],
   "source": [
    "model.save(\"CNN-model\")"
   ]
  },
  {
   "cell_type": "code",
   "execution_count": 10,
   "metadata": {},
   "outputs": [
    {
     "name": "stdout",
     "output_type": "stream",
     "text": [
      "Model: \"sequential_1\"\n",
      "_________________________________________________________________\n",
      "Layer (type)                 Output Shape              Param #   \n",
      "=================================================================\n",
      "conv2d_3 (Conv2D)            (None, 112, 112, 100)     2600      \n",
      "_________________________________________________________________\n",
      "max_pooling2d_3 (MaxPooling2 (None, 22, 22, 100)       0         \n",
      "_________________________________________________________________\n",
      "dropout_3 (Dropout)          (None, 22, 22, 100)       0         \n",
      "_________________________________________________________________\n",
      "conv2d_4 (Conv2D)            (None, 11, 11, 250)       625250    \n",
      "_________________________________________________________________\n",
      "max_pooling2d_4 (MaxPooling2 (None, 4, 4, 250)         0         \n",
      "_________________________________________________________________\n",
      "dropout_4 (Dropout)          (None, 4, 4, 250)         0         \n",
      "_________________________________________________________________\n",
      "flatten_1 (Flatten)          (None, 4000)              0         \n",
      "_________________________________________________________________\n",
      "dense_1 (Dense)              (None, 15)                60015     \n",
      "_________________________________________________________________\n",
      "activation (Activation)      (None, 15)                0         \n",
      "=================================================================\n",
      "Total params: 687,865\n",
      "Trainable params: 687,865\n",
      "Non-trainable params: 0\n",
      "_________________________________________________________________\n"
     ]
    }
   ],
   "source": [
    "model.summary()"
   ]
  },
  {
   "cell_type": "code",
   "execution_count": 27,
   "metadata": {},
   "outputs": [
    {
     "name": "stdout",
     "output_type": "stream",
     "text": [
      "Epoch 1/10\n",
      "900/900 [==============================] - 12s 13ms/step - loss: 1.3834 - accuracy: 0.5178 - val_loss: 10.2999 - val_accuracy: 0.0000e+00\n",
      "Epoch 2/10\n",
      "900/900 [==============================] - 11s 13ms/step - loss: 0.4610 - accuracy: 0.8333 - val_loss: 14.9431 - val_accuracy: 0.0000e+00\n",
      "Epoch 3/10\n",
      "900/900 [==============================] - 11s 12ms/step - loss: 0.3173 - accuracy: 0.8911 - val_loss: 16.5089 - val_accuracy: 0.0000e+00\n",
      "Epoch 4/10\n",
      "900/900 [==============================] - 12s 13ms/step - loss: 0.2906 - accuracy: 0.9000 - val_loss: 15.3146 - val_accuracy: 0.0000e+00\n",
      "Epoch 5/10\n",
      "900/900 [==============================] - 12s 14ms/step - loss: 0.2183 - accuracy: 0.9167 - val_loss: 16.1680 - val_accuracy: 0.0000e+00\n",
      "Epoch 6/10\n",
      "900/900 [==============================] - 14s 16ms/step - loss: 0.1664 - accuracy: 0.9411 - val_loss: 20.0911 - val_accuracy: 0.0000e+00\n",
      "Epoch 7/10\n",
      "900/900 [==============================] - 13s 14ms/step - loss: 0.1918 - accuracy: 0.9378 - val_loss: 18.7821 - val_accuracy: 0.0000e+00\n",
      "Epoch 8/10\n",
      "900/900 [==============================] - 12s 13ms/step - loss: 0.0981 - accuracy: 0.9556 - val_loss: 28.5853 - val_accuracy: 0.0000e+00\n",
      "Epoch 9/10\n",
      "900/900 [==============================] - 12s 13ms/step - loss: 0.1309 - accuracy: 0.9456 - val_loss: 22.2992 - val_accuracy: 0.0000e+00\n",
      "Epoch 10/10\n",
      "900/900 [==============================] - 11s 12ms/step - loss: 0.1045 - accuracy: 0.9678 - val_loss: 22.0438 - val_accuracy: 0.0000e+00\n",
      "Model: \"sequential_2\"\n",
      "_________________________________________________________________\n",
      "Layer (type)                 Output Shape              Param #   \n",
      "=================================================================\n",
      "conv2d_4 (Conv2D)            (None, 112, 112, 32)      320       \n",
      "_________________________________________________________________\n",
      "max_pooling2d_4 (MaxPooling2 (None, 55, 55, 32)        0         \n",
      "_________________________________________________________________\n",
      "dropout_2 (Dropout)          (None, 55, 55, 32)        0         \n",
      "_________________________________________________________________\n",
      "conv2d_5 (Conv2D)            (None, 55, 55, 64)        18496     \n",
      "_________________________________________________________________\n",
      "max_pooling2d_5 (MaxPooling2 (None, 27, 27, 64)        0         \n",
      "_________________________________________________________________\n",
      "dropout_3 (Dropout)          (None, 27, 27, 64)        0         \n",
      "_________________________________________________________________\n",
      "conv2d_6 (Conv2D)            (None, 27, 27, 128)       73856     \n",
      "_________________________________________________________________\n",
      "max_pooling2d_6 (MaxPooling2 (None, 13, 13, 128)       0         \n",
      "_________________________________________________________________\n",
      "dropout_4 (Dropout)          (None, 13, 13, 128)       0         \n",
      "_________________________________________________________________\n",
      "flatten_2 (Flatten)          (None, 21632)             0         \n",
      "_________________________________________________________________\n",
      "dense_2 (Dense)              (None, 15)                324495    \n",
      "=================================================================\n",
      "Total params: 417,167\n",
      "Trainable params: 417,167\n",
      "Non-trainable params: 0\n",
      "_________________________________________________________________\n"
     ]
    }
   ],
   "source": [
    "#Model 3\n",
    "pickle_in = open(\"X_Augumented_Grayscale\",\"rb\")\n",
    "X = pickle.load(pickle_in)\n",
    "\n",
    "pickle_in = open(\"y_Augumented_Grayscale\",\"rb\")\n",
    "y = pickle.load(pickle_in)\n",
    "\n",
    "X = X/255.0\n",
    "NAME=\"Model_3\"\n",
    "\n",
    "model=Sequential()\n",
    "\n",
    "model.add(Conv2D(32,(3,3),padding=\"same\",strides=(2,2),activation=\"relu\", input_shape=X.shape[1:]))\n",
    "model.add(MaxPooling2D(pool_size=(3,3),strides=(2,2)))\n",
    "model.add(Dropout(0.2))\n",
    "model.add(Conv2D(64,(3,3),padding=\"same\",strides=(1,1),activation=\"relu\"))\n",
    "model.add(MaxPooling2D(pool_size=(3,3),strides=(2,2)))\n",
    "model.add(Dropout(0.3))\n",
    "model.add(Conv2D(128,(3,3),padding=\"same\",strides=(1,1),activation=\"relu\"))\n",
    "model.add(MaxPooling2D(pool_size=(3,3),strides=(2,2)))\n",
    "model.add(Dropout(0.5))\n",
    "model.add(Flatten())\n",
    "model.add(Dense(15,activation='softmax'))\n",
    "\n",
    "tensorboard= TensorBoard(log_dir=\"logs\\\\{}\".format(NAME))\n",
    "X=np.array(X)\n",
    "y=np.array(y)\n",
    "model.compile(loss='sparse_categorical_crossentropy',\n",
    "             optimizer='adam',\n",
    "             metrics=['accuracy'])\n",
    "\n",
    "history = model.fit(X,y,epochs=10,batch_size=1,validation_split=0.2,callbacks=[tensorboard])\n",
    "model.summary()"
   ]
  },
  {
   "cell_type": "code",
   "execution_count": 30,
   "metadata": {},
   "outputs": [
    {
     "name": "stdout",
     "output_type": "stream",
     "text": [
      "Ulmus glabra\n"
     ]
    }
   ],
   "source": [
    "#Testing predictions on model\n",
    "from tensorflow.keras.preprocessing import image\n",
    "\n",
    "def prediction(img):\n",
    "    img = image.img_to_array(img)\n",
    "    img = img.reshape(-1, 224, 224, 1)\n",
    "    img = img.astype('float32')\n",
    "    img = img/255.0\n",
    "    \n",
    "    return np.argmax(model.predict(img),axis=-1)[0]\n",
    "    \n",
    "labels=[\"Ulmus carpinifolia\",\"Acer\",\"Salix aurita\",\"Quercus\",\"Alnus incana\",\"Betula pubescens\",\"Salix alba 'Sericea\", \"Populus tremula\",\"Ulmus glabra\",\"Sorbus aucuparia\",\"Salix sinerea\",\"Populus\",\"Tilia\",\"Sorbus intermedia\",\"Fagus silvatica\"]\n",
    "path = \"samples/1.tif\"\n",
    "img = image.load_img(path, target_size=(224, 224), color_mode=\"grayscale\")\n",
    "print(labels[prediction(img)])"
   ]
  },
  {
   "cell_type": "code",
   "execution_count": null,
   "metadata": {},
   "outputs": [
    {
     "name": "stdout",
     "output_type": "stream",
     "text": [
      "Epoch 1/40\n",
      "164/900 [====>.........................] - ETA: 1:29 - loss: 2.6516 - accuracy: 0.0549"
     ]
    }
   ],
   "source": [
    "#Model 4- ALEXNET \n",
    "pickle_in = open(\"X_Augumented_Grayscale\",\"rb\")\n",
    "X = pickle.load(pickle_in)\n",
    "\n",
    "pickle_in = open(\"y_Augumented_Grayscale\",\"rb\")\n",
    "y = pickle.load(pickle_in)\n",
    "\n",
    "X = X/255.0\n",
    "NAME = \"AlexNet_Model\"\n",
    "\n",
    "model = Sequential()\n",
    "model.add(Conv2D(filters=96, kernel_size=(11,11), strides=(1,1), padding='valid'))\n",
    "model.add(Activation('relu'))\n",
    "model.add(MaxPooling2D(pool_size=(2,2),strides=(2,2),padding='valid'))\n",
    "\n",
    "model.add(Conv2D(filters=256, input_shape=X.shape[1:], kernel_size=(11,11), strides=(4,4), padding='valid'))\n",
    "model.add(Activation('relu'))\n",
    "model.add(MaxPooling2D(pool_size=(2,2),strides=(2,2),padding='valid'))\n",
    "\n",
    "model.add(Conv2D(filters=384, kernel_size=(3,3), strides=(1,1), padding='valid'))\n",
    "model.add(Activation('relu'))\n",
    "\n",
    "model.add(Conv2D(filters=384,kernel_size=(3,3), strides=(1,1), padding='valid'))\n",
    "model.add(Activation('relu'))\n",
    "\n",
    "model.add(Conv2D(filters=256, kernel_size=(3,3), strides=(1,1), padding='valid'))\n",
    "model.add(Activation('relu'))\n",
    "model.add(MaxPooling2D(pool_size=(2,2),strides=(2,2),padding='valid'))\n",
    "          \n",
    "\n",
    "model.add(Flatten())\n",
    "model.add(Dense(15))\n",
    "model.add(Activation('relu'))\n",
    "model.add(Dropout(0.4))\n",
    "model.add(Dense(4096,activation='relu'))\n",
    "model.add(Dropout(0.4))\n",
    "model.add(Dense(1000,activation='relu'))\n",
    "model.add(Dropout(0.4))\n",
    "\n",
    "model.add(Dense(15))\n",
    "model.add(Activation('softmax'))\n",
    "\n",
    "tensorboard= TensorBoard(log_dir=\"logs\\\\{}\".format(NAME))\n",
    "X=np.array(X)\n",
    "y=np.array(y)\n",
    "model.compile(loss='sparse_categorical_crossentropy',\n",
    "             optimizer='adam',\n",
    "             metrics=['accuracy'])\n",
    "\n",
    "model.fit(X,y, epochs=40, batch_size=1, validation_split=0.2, callbacks=[tensorboard])\n",
    "model.summary()"
   ]
  },
  {
   "cell_type": "code",
   "execution_count": null,
   "metadata": {},
   "outputs": [],
   "source": []
  }
 ],
 "metadata": {
  "kernelspec": {
   "display_name": "Python 3",
   "language": "python",
   "name": "python3"
  },
  "language_info": {
   "codemirror_mode": {
    "name": "ipython",
    "version": 3
   },
   "file_extension": ".py",
   "mimetype": "text/x-python",
   "name": "python",
   "nbconvert_exporter": "python",
   "pygments_lexer": "ipython3",
   "version": "3.6.13"
  }
 },
 "nbformat": 4,
 "nbformat_minor": 4
}
